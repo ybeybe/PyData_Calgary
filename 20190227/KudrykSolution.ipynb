{
 "cells": [
  {
   "cell_type": "markdown",
   "metadata": {},
   "source": [
    "### Acme Manufacturing Company as a contract to deliver 100, 250, 190, 140, 200 and 110 home windows over the next 6 months. Production cost (labor, material and utility) per window varies by period and is estimated to be \\\\$50, \\\\$45, \\\\$55, \\\\$48, \\\\$52 and \\\\$50 over the next 6 months. To take advantage of the fluctuations in manufacturing cost, Acme can produce more windows than needed in a given month and hold the extra units for delivery in later months. This will incur a storage cost at the rate of \\\\$8 per window per month, assessed on end-of-month inventory. Develop a linear program to determine the optimum production schedule"
   ]
  },
  {
   "cell_type": "markdown",
   "metadata": {},
   "source": [
    "### What is the objective function of this problem? How about Decision variables and Constraints? Try and write out the mathematical formulation of the problem"
   ]
  },
  {
   "cell_type": "markdown",
   "metadata": {},
   "source": [
    "### Solve using PuLP"
   ]
  },
  {
   "cell_type": "code",
   "execution_count": 1,
   "metadata": {},
   "outputs": [],
   "source": [
    "from pulp import *"
   ]
  },
  {
   "cell_type": "markdown",
   "metadata": {},
   "source": [
    "#### Create lists or dataframes with data: production cost per month, demand per month, inventory cost"
   ]
  },
  {
   "cell_type": "code",
   "execution_count": 2,
   "metadata": {},
   "outputs": [],
   "source": [
    "# Constants\n",
    "\n",
    "month1 = {\n",
    "    \"TARGET\": 100,\n",
    "    \"COST\": 50\n",
    "}\n",
    "\n",
    "month2 = {\n",
    "    \"TARGET\": 250,\n",
    "    \"COST\": 45\n",
    "}\n",
    "\n",
    "month3 = {\n",
    "    \"TARGET\": 190,\n",
    "    \"COST\": 55\n",
    "}\n",
    "\n",
    "month4 = {\n",
    "    \"TARGET\": 140,\n",
    "    \"COST\": 48\n",
    "}\n",
    "\n",
    "month5 = {\n",
    "    \"TARGET\": 200,\n",
    "    \"COST\": 52\n",
    "}\n",
    "\n",
    "month6 = {\n",
    "    \"TARGET\": 110,\n",
    "    \"COST\": 50\n",
    "}\n",
    "\n",
    "storage_cost = 8\n",
    "\n",
    "total_windows = month1[\"TARGET\"] + month2[\"TARGET\"] + month3[\"TARGET\"] + \\\n",
    "                month4[\"TARGET\"] + month5[\"TARGET\"] + month6[\"TARGET\"]\n"
   ]
  },
  {
   "cell_type": "markdown",
   "metadata": {},
   "source": [
    "#### create problem object in pulp "
   ]
  },
  {
   "cell_type": "code",
   "execution_count": 3,
   "metadata": {},
   "outputs": [],
   "source": [
    "# Create the 'prob' variable to contain the problem data\n",
    "prob = LpProblem(\"Window Production Cost\", LpMinimize)"
   ]
  },
  {
   "cell_type": "code",
   "execution_count": 4,
   "metadata": {},
   "outputs": [],
   "source": [
    "# Dictionaries created to contain the referenced Variables\n",
    "p1=LpVariable(\"Production-Month1\", lowBound=100,cat=\"integer\")\n",
    "p2=LpVariable(\"Production-Month2\", lowBound=0,cat=\"integer\")\n",
    "p3=LpVariable(\"Production-Month3\", lowBound=0,cat=\"integer\")\n",
    "p4=LpVariable(\"Production-Month4\", lowBound=0,cat=\"integer\")\n",
    "p5=LpVariable(\"Production-Month5\", lowBound=0,cat=\"integer\")\n",
    "p6=LpVariable(\"Production-Month6\", lowBound=0,cat=\"integer\")\n",
    "\n",
    "# Each of these variables represent the amount of extra production in a given month and delivered in a subsequent month\n",
    "# e1e2 -- Extra production in month 1 and delivered in month 3\n",
    "e1d2=LpVariable(\"ExtraMonth1-Delivered2\", lowBound=0, cat=\"integer\")\n",
    "e1d3=LpVariable(\"ExtraMonth1-Delivered3\", lowBound=0, cat=\"integer\")\n",
    "e1d4=LpVariable(\"ExtraMonth1-Delivered4\", lowBound=0, cat=\"integer\")\n",
    "e1d5=LpVariable(\"ExtraMonth1-Delivered5\", lowBound=0, cat=\"integer\")\n",
    "e1d6=LpVariable(\"ExtraMonth1-Delivered6\", lowBound=0, cat=\"integer\")\n",
    "\n",
    "e2d3=LpVariable(\"ExtraMonth2-Delivered3\", lowBound=0, cat=\"integer\")\n",
    "e2d4=LpVariable(\"ExtraMonth2-Delivered4\", lowBound=0, cat=\"integer\")\n",
    "e2d5=LpVariable(\"ExtraMonth2-Delivered5\", lowBound=0, cat=\"integer\")\n",
    "e2d6=LpVariable(\"ExtraMonth2-Delivered6\", lowBound=0, cat=\"integer\")\n",
    "\n",
    "e3d4=LpVariable(\"ExtraMonth3-Delivered4\", lowBound=0, cat=\"integer\")\n",
    "e3d5=LpVariable(\"ExtraMonth3-Delivered5\", lowBound=0, cat=\"integer\")\n",
    "e3d6=LpVariable(\"ExtraMonth3-Delivered6\", lowBound=0, cat=\"integer\")\n",
    "\n",
    "e4d5=LpVariable(\"ExtraMonth4-Delivered5\", lowBound=0, cat=\"integer\")\n",
    "e4d6=LpVariable(\"ExtraMonth4-Delivered6\", lowBound=0, cat=\"integer\")\n",
    "\n",
    "e5d6=LpVariable(\"ExtraMonth5-Delivered6\", lowBound=0, cat=\"integer\")"
   ]
  },
  {
   "cell_type": "code",
   "execution_count": 5,
   "metadata": {},
   "outputs": [],
   "source": [
    "# The objective function is added to 'prob' first\n",
    "# Cost = SUM of monthly production plus storage costs from one month to the next\n",
    "# Month 1 has no storage costs as it is the first month\n",
    "# Month 2 has its production cost plus storage cost if any excess month 1 production is held for month 2\n",
    "prob += month1[\"COST\"] * (p1 + e1d2 + e1d3 + e1d4 + e1d5 + e1d6) + \\\n",
    "        month2[\"COST\"] * (p2 + e2d3 + e2d4 + e2d5 + e2d6)  + storage_cost * e1d2 + \\\n",
    "        month3[\"COST\"] * (p3 + e3d4 + e3d5 + e3d6)         + storage_cost * (2*e1d3 + e2d3) + \\\n",
    "        month4[\"COST\"] * (p4 + e4d5 + e4d6)                + storage_cost * (3*e1d4 + 2*e2d4 + e3d4) + \\\n",
    "        month5[\"COST\"] * (p5 + e5d6)                       + storage_cost * (4*e1d5 + 3*e2d5 + 2*e3d5 + e4d5) + \\\n",
    "        month6[\"COST\"] * (p6)                              + storage_cost * (5*e1d6 + 4*e2d6 + 3*e3d6 + 2*e4d6 + e5d6)"
   ]
  },
  {
   "cell_type": "code",
   "execution_count": 6,
   "metadata": {},
   "outputs": [],
   "source": [
    "# add constraints\n",
    "# Month 1 must deliver month 1's target.\n",
    "prob += p1 == month1[\"TARGET\"]\n",
    "\n",
    "# Month 1 production must be at least 100 or more to meet month1 target\n",
    "prob += p1 + e1d2 + e1d3 + e1d4 + e1d5 + e1d6 >= month1[\"TARGET\"]\n",
    "\n",
    "# Month 2 production must meet or exceed its monthly target. This may consist of excess month 1 production to\n",
    "# be delivered in month 2, or excess production to be delivered thru months 3 to 6.\n",
    "prob += p2 + e2d3 + e2d4 + e2d5 + e2d6 + e1d2 >= month2[\"TARGET\"]\n",
    "\n",
    "# Month 3\n",
    "prob += p3 + e3d4 + e3d5 + e3d6 + e1d3 + e2d3 >= month3[\"TARGET\"]\n",
    "\n",
    "# Month 4\n",
    "prob += p4 + e4d5 + e4d6 + e1d4 + e2d4 + e3d4 >= month4[\"TARGET\"]\n",
    "\n",
    "# Month 5\n",
    "prob += p5 + e5d6 + e1d5 + e2d5 + e3d5 + e4d5 >= month5[\"TARGET\"]\n",
    "\n",
    "# Month 6\n",
    "prob += p6 + e1d6 + e2d6 + e3d6 + e4d6 + e5d6 == month6[\"TARGET\"]\n",
    "\n",
    "# total delivered\n",
    "prob += p1 + e1d2 + e1d3 + e1d4 + e1d5 + e1d6 + \\\n",
    "        p2 + e2d3 + e2d4 + e2d5 + e2d6 + \\\n",
    "        p3 + e3d4 + e3d5 + e3d6 + \\\n",
    "        p4 + e4d5 + e4d6 + \\\n",
    "        p5 + e5d6 + \\\n",
    "        p6 == total_windows"
   ]
  },
  {
   "cell_type": "code",
   "execution_count": 7,
   "metadata": {},
   "outputs": [],
   "source": [
    "# The problem data is written to an .lp file\n",
    "prob.writeLP(\"KudrykSolution.lp\")"
   ]
  },
  {
   "cell_type": "code",
   "execution_count": 8,
   "metadata": {},
   "outputs": [
    {
     "name": "stdout",
     "output_type": "stream",
     "text": [
      "Solution time: 0.007621999999999907\n",
      "Status: Optimal\n",
      "ExtraMonth1_Delivered2 = 0.0\n",
      "ExtraMonth1_Delivered3 = 0.0\n",
      "ExtraMonth1_Delivered4 = 0.0\n",
      "ExtraMonth1_Delivered5 = 0.0\n",
      "ExtraMonth1_Delivered6 = 0.0\n",
      "ExtraMonth2_Delivered3 = 190.0\n",
      "ExtraMonth2_Delivered4 = 0.0\n",
      "ExtraMonth2_Delivered5 = 0.0\n",
      "ExtraMonth2_Delivered6 = 0.0\n",
      "ExtraMonth3_Delivered4 = 0.0\n",
      "ExtraMonth3_Delivered5 = 0.0\n",
      "ExtraMonth3_Delivered6 = 0.0\n",
      "ExtraMonth4_Delivered5 = 0.0\n",
      "ExtraMonth4_Delivered6 = 0.0\n",
      "ExtraMonth5_Delivered6 = 0.0\n",
      "Production_Month1 = 100.0\n",
      "Production_Month2 = 250.0\n",
      "Production_Month3 = 0.0\n",
      "Production_Month4 = 140.0\n",
      "Production_Month5 = 200.0\n",
      "Production_Month6 = 110.0\n"
     ]
    },
    {
     "data": {
      "text/plain": [
       "48940.0"
      ]
     },
     "execution_count": 8,
     "metadata": {},
     "output_type": "execute_result"
    }
   ],
   "source": [
    "# The problem is solved using PuLP's choice of Solver\n",
    "prob.solve()\n",
    "print (\"Solution time: \" + str(prob.solutionTime))\n",
    "\n",
    "# The status of the solution is printed to the screen\n",
    "print (\"Status:\", LpStatus[prob.status])\n",
    "\n",
    "# Each of the variables is printed with it's resolved optimum value\n",
    "\n",
    "for v in prob.variables():\n",
    "    print (v.name, \"=\", v.varValue)\n",
    "\n",
    "# The optimised objective function value is printed to the screen\n",
    "\n",
    "prob.objective.value()"
   ]
  },
  {
   "cell_type": "code",
   "execution_count": null,
   "metadata": {},
   "outputs": [],
   "source": []
  }
 ],
 "metadata": {
  "kernelspec": {
   "display_name": "Python 3",
   "language": "python",
   "name": "python3"
  },
  "language_info": {
   "codemirror_mode": {
    "name": "ipython",
    "version": 3
   },
   "file_extension": ".py",
   "mimetype": "text/x-python",
   "name": "python",
   "nbconvert_exporter": "python",
   "pygments_lexer": "ipython3",
   "version": "3.7.2"
  }
 },
 "nbformat": 4,
 "nbformat_minor": 2
}
