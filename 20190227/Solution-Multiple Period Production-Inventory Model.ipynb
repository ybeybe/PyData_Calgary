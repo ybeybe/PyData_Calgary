{
 "cells": [
  {
   "cell_type": "markdown",
   "metadata": {},
   "source": [
    "### Acme Manufacturing Company as a contract to deliver 100, 250, 190, 140, 200 and 110 home windows over the next 6 months. Production cost (labor, material and utility) per window varies by period and is estimated to be \\\\$50, \\\\$45, \\\\$55, \\\\$48, \\\\$52 and \\\\$50 over the next 6 months. To take advantage of the fluctuations in manufacturing cost, Acme can produce more windows than needed in a given month and hold the extra units for delivery in later months. This will incur a storage cost at the rate of \\\\$8 per window per month, assessed on end-of-month inventory. Develop a linear program to determine the optimum production schedule"
   ]
  },
  {
   "cell_type": "markdown",
   "metadata": {},
   "source": [
    "### What is the objective function of this problem? How about Decision variables and Constraints? Try and write out the mathematical formulation of the problem"
   ]
  },
  {
   "cell_type": "code",
   "execution_count": 69,
   "metadata": {},
   "outputs": [],
   "source": [
    "from pulp import *"
   ]
  },
  {
   "cell_type": "markdown",
   "metadata": {},
   "source": [
    "#### Create lists or dataframes with data: production cost per month, demand per month, inventory cost"
   ]
  },
  {
   "cell_type": "code",
   "execution_count": 70,
   "metadata": {},
   "outputs": [],
   "source": [
    "# Creates a list of the months \n",
    "month = ['month_' + str(x) for x in list(range(1,7))]"
   ]
  },
  {
   "cell_type": "code",
   "execution_count": 71,
   "metadata": {},
   "outputs": [],
   "source": [
    "# Create a list of a dataframe for production cost per unit per month\n",
    "production_cost = {month[0]: 50, \n",
    "                  month[1]: 45, \n",
    "                  month[2]: 55, \n",
    "                  month[3]: 48, \n",
    "                  month[4]: 52, \n",
    "                  month[5]: 50}"
   ]
  },
  {
   "cell_type": "code",
   "execution_count": 72,
   "metadata": {},
   "outputs": [],
   "source": [
    "# Create: inventory cost per unit per month\n",
    "inventory_cost = 8"
   ]
  },
  {
   "cell_type": "code",
   "execution_count": 73,
   "metadata": {},
   "outputs": [],
   "source": [
    "# Create a list of a dataframe for demand per month\n",
    "demand = {month[0]: 100, \n",
    "                  month[1]: 250, \n",
    "                  month[2]: 190, \n",
    "                  month[3]: 140, \n",
    "                  month[4]: 200, \n",
    "                  month[5]: 110}"
   ]
  },
  {
   "cell_type": "markdown",
   "metadata": {},
   "source": [
    "#### create problem object in pulp "
   ]
  },
  {
   "cell_type": "code",
   "execution_count": 74,
   "metadata": {},
   "outputs": [],
   "source": [
    "# Create the 'prob' variable to contain the problem data\n",
    "prob = LpProblem(\"The Multi-period Production Problem\",LpMinimize)"
   ]
  },
  {
   "cell_type": "code",
   "execution_count": 75,
   "metadata": {},
   "outputs": [],
   "source": [
    "# Dictionaries created to contain the referenced Variables\n",
    "production_vars = LpVariable.dicts(\"prod\",month,0)\n",
    "inventory_vars = LpVariable.dicts(\"inventory\",month,0)"
   ]
  },
  {
   "cell_type": "code",
   "execution_count": 76,
   "metadata": {},
   "outputs": [],
   "source": [
    "# The objective function is added to 'prob' first\n",
    "prob += lpSum([production_cost[i]*production_vars[i] for i in month] + \\\n",
    "              [inventory_cost*inventory_vars[i] for i in month]), \"Total Cost of Ingredients per can\""
   ]
  },
  {
   "cell_type": "code",
   "execution_count": 77,
   "metadata": {},
   "outputs": [],
   "source": [
    "#add constraints\n",
    "prob += production_vars[month[0]] - inventory_vars[month[0]] == demand[month[0]]\n",
    "prob += inventory_vars[month[0]] + production_vars[month[1]] - inventory_vars[month[1]] == demand[month[1]]\n",
    "prob += inventory_vars[month[1]] + production_vars[month[2]] - inventory_vars[month[2]] == demand[month[2]]\n",
    "prob += inventory_vars[month[2]] + production_vars[month[3]] - inventory_vars[month[3]] == demand[month[3]]\n",
    "prob += inventory_vars[month[3]] + production_vars[month[4]] - inventory_vars[month[4]] == demand[month[4]]\n",
    "prob += inventory_vars[month[4]] + production_vars[month[5]] == demand[month[5]]"
   ]
  },
  {
   "cell_type": "code",
   "execution_count": 78,
   "metadata": {},
   "outputs": [],
   "source": [
    "# The problem data is written to an .lp file\n",
    "prob.writeLP(\"production_multi-period.lp\")"
   ]
  },
  {
   "cell_type": "code",
   "execution_count": 79,
   "metadata": {},
   "outputs": [
    {
     "name": "stdout",
     "output_type": "stream",
     "text": [
      "Status: Optimal\n",
      "inventory_month_1 = 0.0\n",
      "inventory_month_2 = 190.0\n",
      "inventory_month_3 = 0.0\n",
      "inventory_month_4 = 0.0\n",
      "inventory_month_5 = 0.0\n",
      "inventory_month_6 = 0.0\n",
      "prod_month_1 = 100.0\n",
      "prod_month_2 = 440.0\n",
      "prod_month_3 = 0.0\n",
      "prod_month_4 = 140.0\n",
      "prod_month_5 = 200.0\n",
      "prod_month_6 = 110.0\n",
      "Total production cost =  48940.0\n"
     ]
    }
   ],
   "source": [
    "# The problem is solved using PuLP's choice of Solver\n",
    "prob.solve()\n",
    "\n",
    "# The status of the solution is printed to the screen\n",
    "print(\"Status:\", LpStatus[prob.status])\n",
    "\n",
    "# Each of the variables is printed with it's resolved optimum value\n",
    "for v in prob.variables():\n",
    "    print(v.name, \"=\", v.varValue)\n",
    "\n",
    "# The optimised objective function value is printed to the screen\n",
    "print(\"Total production cost = \", value(prob.objective))"
   ]
  },
  {
   "cell_type": "code",
   "execution_count": null,
   "metadata": {},
   "outputs": [],
   "source": []
  }
 ],
 "metadata": {
  "kernelspec": {
   "display_name": "Python 3",
   "language": "python",
   "name": "python3"
  },
  "language_info": {
   "codemirror_mode": {
    "name": "ipython",
    "version": 3
   },
   "file_extension": ".py",
   "mimetype": "text/x-python",
   "name": "python",
   "nbconvert_exporter": "python",
   "pygments_lexer": "ipython3",
   "version": "3.7.2"
  }
 },
 "nbformat": 4,
 "nbformat_minor": 2
}
